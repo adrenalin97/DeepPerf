{
 "cells": [
  {
   "cell_type": "code",
   "execution_count": null,
   "metadata": {},
   "outputs": [],
   "source": [
    "%pip install keras-tuner --upgrade"
   ]
  },
  {
   "cell_type": "code",
   "execution_count": null,
   "metadata": {},
   "outputs": [],
   "source": [
    "import tensorflow as tf\n",
    "from tensorflow import keras\n",
    "from keras import layers\n",
    "import keras_tuner as kt\n",
    "from sklearn.model_selection import train_test_split\n",
    "import numpy as np\n",
    "import pandas as pd\n",
    "import subprocess"
   ]
  },
  {
   "cell_type": "code",
   "execution_count": null,
   "metadata": {},
   "outputs": [],
   "source": [
    "subprocess.run(['java', '-jar', 'createDataset.jar', '-ss', 'RandomConfiguration', '-m', '100', '-fm', './bcs_v1.xml', '-c', './products.csv'], capture_output=True)"
   ]
  },
  {
   "cell_type": "code",
   "execution_count": null,
   "metadata": {},
   "outputs": [],
   "source": [
    "# get dataset\n",
    "dataset = pd.read_csv(\"Data/Apache_AllNumeric.csv\")\n",
    "dataset = dataset.sample(frac=1)\n",
    "dataset_features = dataset.copy()\n",
    "dataset_labels = dataset_features.pop('PERF')"
   ]
  },
  {
   "cell_type": "code",
   "execution_count": null,
   "metadata": {},
   "outputs": [],
   "source": [
    "dataset"
   ]
  },
  {
   "cell_type": "code",
   "execution_count": null,
   "metadata": {},
   "outputs": [],
   "source": [
    "# normalize dataset (MinMaxScale)\n",
    "features_max = dataset_features.max()\n",
    "labels_max = dataset_labels.max()\n",
    "dataset_features /= features_max\n",
    "dataset_labels /= dataset_labels.max()"
   ]
  },
  {
   "cell_type": "code",
   "execution_count": null,
   "metadata": {},
   "outputs": [],
   "source": [
    "dataset_labels"
   ]
  },
  {
   "cell_type": "code",
   "execution_count": null,
   "metadata": {},
   "outputs": [],
   "source": [
    "# split dataset train (2/3) test (1/3)\n",
    "x, x_test, y, y_test = train_test_split(dataset_features, dataset_labels, test_size=0.33)"
   ]
  },
  {
   "cell_type": "code",
   "execution_count": null,
   "metadata": {},
   "outputs": [],
   "source": [
    "x"
   ]
  },
  {
   "cell_type": "code",
   "execution_count": null,
   "metadata": {},
   "outputs": [],
   "source": [
    "def build_model(hp):\n",
    "    model = keras.Sequential()\n",
    "    model.add(keras.layers.Flatten())\n",
    "    for i in range(hp.Int(\"num_layers\", 1, 11)):\n",
    "        model.add(\n",
    "            keras.layers.Dense(\n",
    "                units=hp.Int(f\"units_{i}\", min_value=8, max_value=256, step=8),\n",
    "                activation=hp.Choice(\"activation\", [\"relu\", \"tanh\", \"sigmoid\"])\n",
    "            )\n",
    "        )\n",
    "    if hp.Boolean(\"dropout\"):\n",
    "        model.add(keras.layers.Dropout(rate=hp.Choice(\"dr\", [0.25, 0.5])))\n",
    "    model.add(keras.layers.Dense(1))\n",
    "    learning_rate = hp.Float(\"lr\", min_value=1e-4, max_value=1e-1, sampling=\"log\")\n",
    "    model.compile(\n",
    "        optimizer=keras.optimizers.Adam(learning_rate=learning_rate),\n",
    "        loss=\"mean_squared_error\",\n",
    "        metrics=[keras.metrics.MeanSquaredError()]\n",
    "    )\n",
    "    return model"
   ]
  },
  {
   "cell_type": "code",
   "execution_count": null,
   "metadata": {},
   "outputs": [],
   "source": [
    "tuner = kt.BayesianOptimization(\n",
    "    hypermodel = build_model,\n",
    "    objective=\"mean_squared_error\",\n",
    "    max_trials=10,\n",
    "    overwrite=True,\n",
    "    directory=\"my_tuner\",\n",
    "    project_name=\"feature_degradation\",\n",
    ")"
   ]
  },
  {
   "cell_type": "code",
   "execution_count": null,
   "metadata": {},
   "outputs": [],
   "source": [
    "es = keras.callbacks.EarlyStopping(\n",
    "    monitor=\"mean_squared_error\",\n",
    "    patience=5,\n",
    "    restore_best_weights=True\n",
    ")"
   ]
  },
  {
   "cell_type": "code",
   "execution_count": null,
   "metadata": {},
   "outputs": [],
   "source": [
    "tuner.search_space_summary()"
   ]
  },
  {
   "cell_type": "code",
   "execution_count": null,
   "metadata": {},
   "outputs": [],
   "source": [
    "x_train, x_val, y_train, y_val = train_test_split(x, y, test_size=0.2)"
   ]
  },
  {
   "cell_type": "code",
   "execution_count": null,
   "metadata": {},
   "outputs": [],
   "source": [
    "x_train"
   ]
  },
  {
   "cell_type": "code",
   "execution_count": null,
   "metadata": {},
   "outputs": [],
   "source": [
    "tuner.search(x_train, y_train, epochs=10, validation_data=(x_val, y_val), callbacks=[es])"
   ]
  },
  {
   "cell_type": "code",
   "execution_count": null,
   "metadata": {},
   "outputs": [],
   "source": [
    "tuner.results_summary()"
   ]
  },
  {
   "cell_type": "code",
   "execution_count": 27,
   "metadata": {},
   "outputs": [
    {
     "name": "stdout",
     "output_type": "stream",
     "text": [
      "Epoch 1/20\n",
      "6/6 [==============================] - 1s 42ms/step - loss: 0.3738 - mean_squared_error: 0.3738 - val_loss: 0.1857 - val_mean_squared_error: 0.1857\n",
      "Epoch 2/20\n",
      "6/6 [==============================] - 0s 9ms/step - loss: 0.0670 - mean_squared_error: 0.0670 - val_loss: 0.0683 - val_mean_squared_error: 0.0683\n",
      "Epoch 3/20\n",
      "6/6 [==============================] - 0s 9ms/step - loss: 0.0439 - mean_squared_error: 0.0439 - val_loss: 0.0279 - val_mean_squared_error: 0.0279\n",
      "Epoch 4/20\n",
      "6/6 [==============================] - 0s 9ms/step - loss: 0.0268 - mean_squared_error: 0.0268 - val_loss: 0.0154 - val_mean_squared_error: 0.0154\n",
      "Epoch 5/20\n",
      "6/6 [==============================] - 0s 9ms/step - loss: 0.0209 - mean_squared_error: 0.0209 - val_loss: 0.0153 - val_mean_squared_error: 0.0153\n",
      "Epoch 6/20\n",
      "6/6 [==============================] - 0s 9ms/step - loss: 0.0157 - mean_squared_error: 0.0157 - val_loss: 0.0219 - val_mean_squared_error: 0.0219\n",
      "Epoch 7/20\n",
      "6/6 [==============================] - 0s 11ms/step - loss: 0.0125 - mean_squared_error: 0.0125 - val_loss: 0.0148 - val_mean_squared_error: 0.0148\n",
      "Epoch 8/20\n",
      "6/6 [==============================] - 0s 11ms/step - loss: 0.0089 - mean_squared_error: 0.0089 - val_loss: 0.0165 - val_mean_squared_error: 0.0165\n",
      "Epoch 9/20\n",
      "6/6 [==============================] - 0s 11ms/step - loss: 0.0107 - mean_squared_error: 0.0107 - val_loss: 0.0156 - val_mean_squared_error: 0.0156\n",
      "Epoch 10/20\n",
      "6/6 [==============================] - 0s 13ms/step - loss: 0.0084 - mean_squared_error: 0.0084 - val_loss: 0.0122 - val_mean_squared_error: 0.0122\n",
      "Epoch 11/20\n",
      "6/6 [==============================] - 0s 9ms/step - loss: 0.0050 - mean_squared_error: 0.0050 - val_loss: 0.0099 - val_mean_squared_error: 0.0099\n",
      "Epoch 12/20\n",
      "6/6 [==============================] - 0s 9ms/step - loss: 0.0063 - mean_squared_error: 0.0063 - val_loss: 0.0053 - val_mean_squared_error: 0.0053\n",
      "Epoch 13/20\n",
      "6/6 [==============================] - 0s 10ms/step - loss: 0.0049 - mean_squared_error: 0.0049 - val_loss: 0.0057 - val_mean_squared_error: 0.0057\n",
      "Epoch 14/20\n",
      "6/6 [==============================] - 0s 10ms/step - loss: 0.0034 - mean_squared_error: 0.0034 - val_loss: 0.0061 - val_mean_squared_error: 0.0061\n",
      "Epoch 15/20\n",
      "6/6 [==============================] - 0s 9ms/step - loss: 0.0026 - mean_squared_error: 0.0026 - val_loss: 0.0037 - val_mean_squared_error: 0.0037\n",
      "Epoch 16/20\n",
      "6/6 [==============================] - 0s 11ms/step - loss: 0.0029 - mean_squared_error: 0.0029 - val_loss: 0.0035 - val_mean_squared_error: 0.0035\n",
      "Epoch 17/20\n",
      "6/6 [==============================] - 0s 9ms/step - loss: 0.0028 - mean_squared_error: 0.0028 - val_loss: 0.0025 - val_mean_squared_error: 0.0025\n",
      "Epoch 18/20\n",
      "6/6 [==============================] - 0s 10ms/step - loss: 0.0017 - mean_squared_error: 0.0017 - val_loss: 0.0031 - val_mean_squared_error: 0.0031\n",
      "Epoch 19/20\n",
      "6/6 [==============================] - 0s 13ms/step - loss: 0.0017 - mean_squared_error: 0.0017 - val_loss: 0.0027 - val_mean_squared_error: 0.0027\n",
      "Epoch 20/20\n",
      "6/6 [==============================] - 0s 9ms/step - loss: 0.0015 - mean_squared_error: 0.0015 - val_loss: 0.0022 - val_mean_squared_error: 0.0022\n"
     ]
    }
   ],
   "source": [
    "best_hps = tuner.get_best_hyperparameters(5)\n",
    "model = build_model(best_hps[0])\n",
    "history = model.fit(x_train, y_train, batch_size=20, epochs=20, validation_data=(x_val, y_val),)"
   ]
  },
  {
   "cell_type": "code",
   "execution_count": null,
   "metadata": {},
   "outputs": [],
   "source": [
    "keras.utils.plot_model(model, \"model.png\", show_shapes=True)"
   ]
  },
  {
   "cell_type": "code",
   "execution_count": 28,
   "metadata": {},
   "outputs": [
    {
     "name": "stdout",
     "output_type": "stream",
     "text": [
      "Evaluate on test data\n",
      "13/13 [==============================] - 0s 2ms/step - loss: 0.0016 - mean_squared_error: 0.0016    \n"
     ]
    }
   ],
   "source": [
    "print(\"Evaluate on test data\")\n",
    "results = model.evaluate(x_test, y_test, batch_size=5)"
   ]
  },
  {
   "cell_type": "code",
   "execution_count": 29,
   "metadata": {},
   "outputs": [
    {
     "name": "stdout",
     "output_type": "stream",
     "text": [
      "Generate predictions for 3 samples\n",
      "     HostnameLookups  KeepAlive  EnableSendfile  FollowSymLinks  AccessLog  \\\n",
      "99               1.0        0.0             1.0             1.0        1.0   \n",
      "86               1.0        0.0             1.0             0.0        0.0   \n",
      "160              0.0        0.0             0.0             0.0        1.0   \n",
      "\n",
      "     ExtendedStatus  InMemory  Handle  \n",
      "99              0.0       0.0     1.0  \n",
      "86              0.0       0.0     1.0  \n",
      "160             1.0       1.0     0.0  \n",
      "predictions: [[ 973.21765]\n",
      " [1062.461  ]\n",
      " [1135.5249 ]]\n"
     ]
    }
   ],
   "source": [
    "print(\"Generate predictions for 3 samples\\n\")\n",
    "test = x_test[:3]\n",
    "print(test)\n",
    "predictions = model.predict(test)\n",
    "print(\"predictions:\\n\", predictions*labels_max)"
   ]
  },
  {
   "cell_type": "code",
   "execution_count": 25,
   "metadata": {},
   "outputs": [
    {
     "data": {
      "text/plain": [
       "array([[1.00000000e+00, 0.00000000e+00, 1.00000000e+00, 1.00000000e+00,\n",
       "        1.00000000e+00, 0.00000000e+00, 0.00000000e+00, 1.00000000e+00,\n",
       "        1.24021741e+03],\n",
       "       [1.00000000e+00, 0.00000000e+00, 1.00000000e+00, 0.00000000e+00,\n",
       "        0.00000000e+00, 0.00000000e+00, 0.00000000e+00, 1.00000000e+00,\n",
       "        1.10239429e+03],\n",
       "       [0.00000000e+00, 0.00000000e+00, 0.00000000e+00, 0.00000000e+00,\n",
       "        1.00000000e+00, 1.00000000e+00, 1.00000000e+00, 0.00000000e+00,\n",
       "        1.31707520e+03]])"
      ]
     },
     "execution_count": 25,
     "metadata": {},
     "output_type": "execute_result"
    }
   ],
   "source": [
    "np.concatenate((test, predictions*labels_max), axis=1)\n"
   ]
  },
  {
   "cell_type": "code",
   "execution_count": 26,
   "metadata": {},
   "outputs": [
    {
     "name": "stdout",
     "output_type": "stream",
     "text": [
      "[[1240.2174]\n",
      " [1102.3943]\n",
      " [1317.0752]]\n"
     ]
    }
   ],
   "source": [
    "print(predictions*labels_max)"
   ]
  }
 ],
 "metadata": {
  "interpreter": {
   "hash": "31f2aee4e71d21fbe5cf8b01ff0e069b9275f58929596ceb00d14d90e3e16cd6"
  },
  "kernelspec": {
   "display_name": "Python 3.7.12 64-bit",
   "language": "python",
   "name": "python3"
  },
  "language_info": {
   "codemirror_mode": {
    "name": "ipython",
    "version": 3
   },
   "file_extension": ".py",
   "mimetype": "text/x-python",
   "name": "python",
   "nbconvert_exporter": "python",
   "pygments_lexer": "ipython3",
   "version": "3.7.12"
  },
  "orig_nbformat": 4
 },
 "nbformat": 4,
 "nbformat_minor": 2
}
