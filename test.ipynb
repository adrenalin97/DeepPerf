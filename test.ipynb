{
 "cells": [
  {
   "cell_type": "code",
   "execution_count": 54,
   "metadata": {},
   "outputs": [],
   "source": [
    "import tensorflow as tf\n",
    "from tensorflow import keras\n",
    "from keras import layers\n",
    "from sklearn.model_selection import train_test_split\n",
    "import numpy as np\n",
    "import pandas as pd"
   ]
  },
  {
   "cell_type": "code",
   "execution_count": 55,
   "metadata": {},
   "outputs": [],
   "source": [
    "# get dataset\n",
    "dataset = pd.read_csv(\"Data/Apache_AllNumeric.csv\")\n",
    "dataset = dataset.sample(frac=1)\n",
    "dataset_features = dataset.copy()\n",
    "dataset_labels = dataset_features.pop('PERF')"
   ]
  },
  {
   "cell_type": "code",
   "execution_count": 56,
   "metadata": {},
   "outputs": [],
   "source": [
    "# normalize dataset (MinMaxScale)\n",
    "features_max = dataset_features.max()\n",
    "labels_max = dataset_labels.max()\n",
    "dataset_features /= features_max\n",
    "dataset_labels /= dataset_labels.max()"
   ]
  },
  {
   "cell_type": "code",
   "execution_count": 57,
   "metadata": {},
   "outputs": [],
   "source": [
    "# split dataset train (2/3) test (1/3)\n",
    "x_train, x_test, y_train, y_test = train_test_split(dataset_features, dataset_labels, test_size=0.33)"
   ]
  },
  {
   "cell_type": "code",
   "execution_count": 76,
   "metadata": {},
   "outputs": [
    {
     "name": "stderr",
     "output_type": "stream",
     "text": [
      "/usr/local/lib/python3.7/dist-packages/keras/optimizer_v2/adam.py:105: UserWarning: The `lr` argument is deprecated, use `learning_rate` instead.\n",
      "  super(Adam, self).__init__(name, **kwargs)\n"
     ]
    }
   ],
   "source": [
    "# Define sequential model\n",
    "model = keras.Sequential()\n",
    "model.add(layers.Dense(16, activation='relu', kernel_regularizer=keras.regularizers.l1(0.001), input_shape=(8,)))\n",
    "model.add(layers.Dense(8, activation='relu', kernel_regularizer=keras.regularizers.l1(0.001)))\n",
    "model.add(layers.Dense(1))\n",
    "model.compile(optimizer=keras.optimizers.Adam(lr=0.001),\n",
    "                loss=\"mean_squared_error\",\n",
    "                metrics=[keras.metrics.MeanSquaredError()])"
   ]
  },
  {
   "cell_type": "code",
   "execution_count": 77,
   "metadata": {},
   "outputs": [
    {
     "name": "stdout",
     "output_type": "stream",
     "text": [
      "Epoch 1/50\n",
      "11/11 [==============================] - 1s 22ms/step - loss: 0.3308 - mean_squared_error: 0.2643 - val_loss: 0.2580 - val_mean_squared_error: 0.1916\n",
      "Epoch 2/50\n",
      "11/11 [==============================] - 0s 7ms/step - loss: 0.2259 - mean_squared_error: 0.1595 - val_loss: 0.1816 - val_mean_squared_error: 0.1154\n",
      "Epoch 3/50\n",
      "11/11 [==============================] - 0s 6ms/step - loss: 0.1796 - mean_squared_error: 0.1134 - val_loss: 0.1491 - val_mean_squared_error: 0.0831\n",
      "Epoch 4/50\n",
      "11/11 [==============================] - 0s 5ms/step - loss: 0.1521 - mean_squared_error: 0.0862 - val_loss: 0.1332 - val_mean_squared_error: 0.0675\n",
      "Epoch 5/50\n",
      "11/11 [==============================] - 0s 6ms/step - loss: 0.1353 - mean_squared_error: 0.0697 - val_loss: 0.1217 - val_mean_squared_error: 0.0563\n",
      "Epoch 6/50\n",
      "11/11 [==============================] - 0s 6ms/step - loss: 0.1229 - mean_squared_error: 0.0575 - val_loss: 0.1121 - val_mean_squared_error: 0.0470\n",
      "Epoch 7/50\n",
      "11/11 [==============================] - 0s 7ms/step - loss: 0.1132 - mean_squared_error: 0.0481 - val_loss: 0.1042 - val_mean_squared_error: 0.0393\n",
      "Epoch 8/50\n",
      "11/11 [==============================] - 0s 6ms/step - loss: 0.1056 - mean_squared_error: 0.0408 - val_loss: 0.0991 - val_mean_squared_error: 0.0345\n",
      "Epoch 9/50\n",
      "11/11 [==============================] - 0s 6ms/step - loss: 0.0995 - mean_squared_error: 0.0349 - val_loss: 0.0944 - val_mean_squared_error: 0.0300\n",
      "Epoch 10/50\n",
      "11/11 [==============================] - 0s 7ms/step - loss: 0.0940 - mean_squared_error: 0.0297 - val_loss: 0.0914 - val_mean_squared_error: 0.0272\n",
      "Epoch 11/50\n",
      "11/11 [==============================] - 0s 7ms/step - loss: 0.0908 - mean_squared_error: 0.0267 - val_loss: 0.0891 - val_mean_squared_error: 0.0252\n",
      "Epoch 12/50\n",
      "11/11 [==============================] - 0s 5ms/step - loss: 0.0877 - mean_squared_error: 0.0239 - val_loss: 0.0875 - val_mean_squared_error: 0.0239\n",
      "Epoch 13/50\n",
      "11/11 [==============================] - 0s 5ms/step - loss: 0.0850 - mean_squared_error: 0.0215 - val_loss: 0.0859 - val_mean_squared_error: 0.0226\n",
      "Epoch 14/50\n",
      "11/11 [==============================] - 0s 5ms/step - loss: 0.0829 - mean_squared_error: 0.0197 - val_loss: 0.0845 - val_mean_squared_error: 0.0215\n",
      "Epoch 15/50\n",
      "11/11 [==============================] - 0s 5ms/step - loss: 0.0811 - mean_squared_error: 0.0182 - val_loss: 0.0826 - val_mean_squared_error: 0.0199\n",
      "Epoch 16/50\n",
      "11/11 [==============================] - 0s 7ms/step - loss: 0.0793 - mean_squared_error: 0.0167 - val_loss: 0.0818 - val_mean_squared_error: 0.0194\n",
      "Epoch 17/50\n",
      "11/11 [==============================] - 0s 5ms/step - loss: 0.0777 - mean_squared_error: 0.0154 - val_loss: 0.0805 - val_mean_squared_error: 0.0183\n",
      "Epoch 18/50\n",
      "11/11 [==============================] - 0s 5ms/step - loss: 0.0764 - mean_squared_error: 0.0143 - val_loss: 0.0798 - val_mean_squared_error: 0.0179\n",
      "Epoch 19/50\n",
      "11/11 [==============================] - 0s 5ms/step - loss: 0.0750 - mean_squared_error: 0.0132 - val_loss: 0.0778 - val_mean_squared_error: 0.0162\n",
      "Epoch 20/50\n",
      "11/11 [==============================] - 0s 6ms/step - loss: 0.0737 - mean_squared_error: 0.0122 - val_loss: 0.0770 - val_mean_squared_error: 0.0157\n",
      "Epoch 21/50\n",
      "11/11 [==============================] - 0s 5ms/step - loss: 0.0728 - mean_squared_error: 0.0116 - val_loss: 0.0767 - val_mean_squared_error: 0.0157\n",
      "Epoch 22/50\n",
      "11/11 [==============================] - 0s 6ms/step - loss: 0.0718 - mean_squared_error: 0.0109 - val_loss: 0.0759 - val_mean_squared_error: 0.0152\n",
      "Epoch 23/50\n",
      "11/11 [==============================] - 0s 5ms/step - loss: 0.0709 - mean_squared_error: 0.0103 - val_loss: 0.0747 - val_mean_squared_error: 0.0143\n",
      "Epoch 24/50\n",
      "11/11 [==============================] - 0s 5ms/step - loss: 0.0702 - mean_squared_error: 0.0099 - val_loss: 0.0742 - val_mean_squared_error: 0.0140\n",
      "Epoch 25/50\n",
      "11/11 [==============================] - 0s 7ms/step - loss: 0.0692 - mean_squared_error: 0.0092 - val_loss: 0.0746 - val_mean_squared_error: 0.0147\n",
      "Epoch 26/50\n",
      "11/11 [==============================] - 0s 5ms/step - loss: 0.0687 - mean_squared_error: 0.0089 - val_loss: 0.0737 - val_mean_squared_error: 0.0141\n",
      "Epoch 27/50\n",
      "11/11 [==============================] - 0s 5ms/step - loss: 0.0679 - mean_squared_error: 0.0085 - val_loss: 0.0726 - val_mean_squared_error: 0.0133\n",
      "Epoch 28/50\n",
      "11/11 [==============================] - 0s 8ms/step - loss: 0.0673 - mean_squared_error: 0.0082 - val_loss: 0.0715 - val_mean_squared_error: 0.0126\n",
      "Epoch 29/50\n",
      "11/11 [==============================] - 0s 7ms/step - loss: 0.0667 - mean_squared_error: 0.0079 - val_loss: 0.0712 - val_mean_squared_error: 0.0126\n",
      "Epoch 30/50\n",
      "11/11 [==============================] - 0s 5ms/step - loss: 0.0661 - mean_squared_error: 0.0075 - val_loss: 0.0713 - val_mean_squared_error: 0.0130\n",
      "Epoch 31/50\n",
      "11/11 [==============================] - 0s 6ms/step - loss: 0.0655 - mean_squared_error: 0.0073 - val_loss: 0.0709 - val_mean_squared_error: 0.0129\n",
      "Epoch 32/50\n",
      "11/11 [==============================] - 0s 4ms/step - loss: 0.0650 - mean_squared_error: 0.0071 - val_loss: 0.0702 - val_mean_squared_error: 0.0125\n",
      "Epoch 33/50\n",
      "11/11 [==============================] - 0s 6ms/step - loss: 0.0644 - mean_squared_error: 0.0068 - val_loss: 0.0697 - val_mean_squared_error: 0.0123\n",
      "Epoch 34/50\n",
      "11/11 [==============================] - 0s 8ms/step - loss: 0.0641 - mean_squared_error: 0.0067 - val_loss: 0.0688 - val_mean_squared_error: 0.0116\n",
      "Epoch 35/50\n",
      "11/11 [==============================] - 0s 8ms/step - loss: 0.0635 - mean_squared_error: 0.0064 - val_loss: 0.0686 - val_mean_squared_error: 0.0117\n",
      "Epoch 36/50\n",
      "11/11 [==============================] - 0s 4ms/step - loss: 0.0630 - mean_squared_error: 0.0063 - val_loss: 0.0680 - val_mean_squared_error: 0.0115\n",
      "Epoch 37/50\n",
      "11/11 [==============================] - 0s 5ms/step - loss: 0.0626 - mean_squared_error: 0.0061 - val_loss: 0.0677 - val_mean_squared_error: 0.0114\n",
      "Epoch 38/50\n",
      "11/11 [==============================] - 0s 4ms/step - loss: 0.0624 - mean_squared_error: 0.0062 - val_loss: 0.0678 - val_mean_squared_error: 0.0119\n",
      "Epoch 39/50\n",
      "11/11 [==============================] - 0s 5ms/step - loss: 0.0616 - mean_squared_error: 0.0058 - val_loss: 0.0664 - val_mean_squared_error: 0.0107\n",
      "Epoch 40/50\n",
      "11/11 [==============================] - 0s 6ms/step - loss: 0.0613 - mean_squared_error: 0.0058 - val_loss: 0.0659 - val_mean_squared_error: 0.0105\n",
      "Epoch 41/50\n",
      "11/11 [==============================] - 0s 7ms/step - loss: 0.0609 - mean_squared_error: 0.0056 - val_loss: 0.0655 - val_mean_squared_error: 0.0105\n",
      "Epoch 42/50\n",
      "11/11 [==============================] - 0s 7ms/step - loss: 0.0604 - mean_squared_error: 0.0055 - val_loss: 0.0652 - val_mean_squared_error: 0.0105\n",
      "Epoch 43/50\n",
      "11/11 [==============================] - 0s 19ms/step - loss: 0.0601 - mean_squared_error: 0.0055 - val_loss: 0.0652 - val_mean_squared_error: 0.0108\n",
      "Epoch 44/50\n",
      "11/11 [==============================] - 0s 5ms/step - loss: 0.0597 - mean_squared_error: 0.0054 - val_loss: 0.0648 - val_mean_squared_error: 0.0107\n",
      "Epoch 45/50\n",
      "11/11 [==============================] - 0s 5ms/step - loss: 0.0593 - mean_squared_error: 0.0053 - val_loss: 0.0644 - val_mean_squared_error: 0.0105\n",
      "Epoch 46/50\n",
      "11/11 [==============================] - 0s 6ms/step - loss: 0.0589 - mean_squared_error: 0.0052 - val_loss: 0.0637 - val_mean_squared_error: 0.0102\n",
      "Epoch 47/50\n",
      "11/11 [==============================] - 0s 6ms/step - loss: 0.0585 - mean_squared_error: 0.0051 - val_loss: 0.0631 - val_mean_squared_error: 0.0098\n",
      "Epoch 48/50\n",
      "11/11 [==============================] - 0s 7ms/step - loss: 0.0582 - mean_squared_error: 0.0050 - val_loss: 0.0627 - val_mean_squared_error: 0.0096\n",
      "Epoch 49/50\n",
      "11/11 [==============================] - 0s 7ms/step - loss: 0.0578 - mean_squared_error: 0.0049 - val_loss: 0.0624 - val_mean_squared_error: 0.0097\n",
      "Epoch 50/50\n",
      "11/11 [==============================] - 0s 6ms/step - loss: 0.0575 - mean_squared_error: 0.0049 - val_loss: 0.0621 - val_mean_squared_error: 0.0096\n"
     ]
    },
    {
     "data": {
      "text/plain": [
       "<keras.callbacks.History at 0x7f0edaafcc10>"
      ]
     },
     "execution_count": 77,
     "metadata": {},
     "output_type": "execute_result"
    }
   ],
   "source": [
    "model.fit(x_train, y_train, epochs=50, batch_size=10, validation_split=0.2)\n"
   ]
  },
  {
   "cell_type": "code",
   "execution_count": 78,
   "metadata": {},
   "outputs": [
    {
     "data": {
      "text/plain": [
       "array([[802.38367]], dtype=float32)"
      ]
     },
     "execution_count": 78,
     "metadata": {},
     "output_type": "execute_result"
    }
   ],
   "source": [
    "x = np.array([[1,0,1,1,1,1,1,0]])\n",
    "y_pred = model.predict(x)\n",
    "y_pred*labels_max"
   ]
  }
 ],
 "metadata": {
  "interpreter": {
   "hash": "31f2aee4e71d21fbe5cf8b01ff0e069b9275f58929596ceb00d14d90e3e16cd6"
  },
  "kernelspec": {
   "display_name": "Python 3.7.12 64-bit",
   "language": "python",
   "name": "python3"
  },
  "language_info": {
   "codemirror_mode": {
    "name": "ipython",
    "version": 3
   },
   "file_extension": ".py",
   "mimetype": "text/x-python",
   "name": "python",
   "nbconvert_exporter": "python",
   "pygments_lexer": "ipython3",
   "version": "3.7.12"
  },
  "orig_nbformat": 4
 },
 "nbformat": 4,
 "nbformat_minor": 2
}
