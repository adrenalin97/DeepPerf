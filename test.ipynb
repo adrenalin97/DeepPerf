{
 "cells": [
  {
   "cell_type": "code",
   "execution_count": null,
   "metadata": {},
   "outputs": [],
   "source": [
    "%pip install keras-tuner --upgrade"
   ]
  },
  {
   "cell_type": "code",
   "execution_count": null,
   "metadata": {},
   "outputs": [],
   "source": [
    "import tensorflow as tf\n",
    "from tensorflow import keras\n",
    "from keras import layers\n",
    "import keras_tuner as kt\n",
    "from sklearn.model_selection import train_test_split\n",
    "import numpy as np\n",
    "import pandas as pd"
   ]
  },
  {
   "cell_type": "code",
   "execution_count": null,
   "metadata": {},
   "outputs": [],
   "source": [
    "# get dataset\n",
    "dataset = pd.read_csv(\"Data/LLVM_AllNumeric.csv\")\n",
    "dataset = dataset.sample(frac=1)\n",
    "dataset_features = dataset.copy()\n",
    "dataset_labels = dataset_features.pop('PERF')"
   ]
  },
  {
   "cell_type": "code",
   "execution_count": null,
   "metadata": {},
   "outputs": [],
   "source": [
    "# normalize dataset (MinMaxScale)\n",
    "features_max = dataset_features.max()\n",
    "labels_max = dataset_labels.max()\n",
    "dataset_features /= features_max\n",
    "dataset_labels /= dataset_labels.max()"
   ]
  },
  {
   "cell_type": "code",
   "execution_count": null,
   "metadata": {},
   "outputs": [],
   "source": [
    "# split dataset train (2/3) test (1/3)\n",
    "x, x_test, y, y_test = train_test_split(dataset_features, dataset_labels, test_size=0.33)"
   ]
  },
  {
   "cell_type": "code",
   "execution_count": null,
   "metadata": {},
   "outputs": [],
   "source": [
    "def build_model(hp):\n",
    "    model = keras.Sequential()\n",
    "    # model.add(keras.layers.Flatten())\n",
    "    for i in range(hp.Int(\"num_layers\", 1, 11)):\n",
    "        model.add(\n",
    "            keras.layers.Dense(\n",
    "                units=hp.Int(f\"units_{i}\", min_value=8, max_value=256, step=8),\n",
    "                activation=hp.Choice(\"activation\", [\"relu\", \"tanh\", \"sigmoid\"])\n",
    "            )\n",
    "        )\n",
    "    if hp.Boolean(\"dropout\"):\n",
    "        model.add(keras.layers.Dropout(rate=0.25))\n",
    "    model.add(keras.layers.Dense(1))\n",
    "    learning_rate = hp.Float(\"lr\", min_value=1e-4, max_value=1e-1, sampling=\"log\")\n",
    "    model.compile(\n",
    "        optimizer=keras.optimizers.Adam(learning_rate=learning_rate),\n",
    "        loss=\"mean_squared_error\",\n",
    "        metrics=[keras.metrics.MeanSquaredError()]\n",
    "    )\n",
    "    return model"
   ]
  },
  {
   "cell_type": "code",
   "execution_count": null,
   "metadata": {},
   "outputs": [],
   "source": [
    "tuner = kt.RandomSearch(\n",
    "    hypermodel = build_model,\n",
    "    objective=\"mean_squared_error\",\n",
    "    max_trials=10,\n",
    "    executions_per_trial=3,\n",
    "    overwrite=True,\n",
    "    directory=\"my_tuner\",\n",
    "    project_name=\"feature_degradation\",\n",
    ")"
   ]
  },
  {
   "cell_type": "code",
   "execution_count": null,
   "metadata": {},
   "outputs": [],
   "source": [
    "tuner.search_space_summary()"
   ]
  },
  {
   "cell_type": "code",
   "execution_count": null,
   "metadata": {},
   "outputs": [],
   "source": [
    "x_train, x_val, y_train, y_val = train_test_split(x, y, test_size=0.2)"
   ]
  },
  {
   "cell_type": "code",
   "execution_count": null,
   "metadata": {},
   "outputs": [],
   "source": [
    "tuner.search(x_train, y_train, epochs=10, validation_data=(x_val, y_val))"
   ]
  },
  {
   "cell_type": "code",
   "execution_count": 89,
   "metadata": {},
   "outputs": [
    {
     "name": "stdout",
     "output_type": "stream",
     "text": [
      "Results summary\n",
      "Results in my_tuner/feature_degradation\n",
      "Showing 10 best trials\n",
      "Objective(name='mean_squared_error', direction='min')\n",
      "Trial summary\n",
      "Hyperparameters:\n",
      "num_layers: 5\n",
      "units_0: 96\n",
      "activation: relu\n",
      "dropout: False\n",
      "lr: 0.0039186864355751794\n",
      "units_1: 184\n",
      "units_2: 64\n",
      "units_3: 200\n",
      "units_4: 8\n",
      "Score: 0.00037259711340690654\n",
      "Trial summary\n",
      "Hyperparameters:\n",
      "num_layers: 8\n",
      "units_0: 96\n",
      "activation: sigmoid\n",
      "dropout: True\n",
      "lr: 0.027177000743455176\n",
      "units_1: 56\n",
      "units_2: 192\n",
      "units_3: 184\n",
      "units_4: 192\n",
      "units_5: 8\n",
      "units_6: 8\n",
      "units_7: 8\n",
      "Score: 0.005372364850093921\n",
      "Trial summary\n",
      "Hyperparameters:\n",
      "num_layers: 8\n",
      "units_0: 72\n",
      "activation: tanh\n",
      "dropout: True\n",
      "lr: 0.001461171971454041\n",
      "units_1: 224\n",
      "units_2: 64\n",
      "units_3: 160\n",
      "units_4: 232\n",
      "units_5: 200\n",
      "units_6: 56\n",
      "units_7: 256\n",
      "units_8: 224\n",
      "Score: 0.0058857714757323265\n",
      "Trial summary\n",
      "Hyperparameters:\n",
      "num_layers: 3\n",
      "units_0: 24\n",
      "activation: relu\n",
      "dropout: True\n",
      "lr: 0.003231343189436178\n",
      "units_1: 176\n",
      "units_2: 112\n",
      "units_3: 152\n",
      "Score: 0.008238532269994417\n",
      "Trial summary\n",
      "Hyperparameters:\n",
      "num_layers: 4\n",
      "units_0: 64\n",
      "activation: sigmoid\n",
      "dropout: False\n",
      "lr: 0.00013542153994226648\n",
      "units_1: 216\n",
      "units_2: 32\n",
      "units_3: 40\n",
      "units_4: 48\n",
      "units_5: 224\n",
      "units_6: 64\n",
      "units_7: 56\n",
      "Score: 0.015585499815642834\n",
      "Trial summary\n",
      "Hyperparameters:\n",
      "num_layers: 4\n",
      "units_0: 104\n",
      "activation: tanh\n",
      "dropout: True\n",
      "lr: 0.002630243376430054\n",
      "units_1: 8\n",
      "units_2: 8\n",
      "units_3: 8\n",
      "Score: 0.026260207096735638\n",
      "Trial summary\n",
      "Hyperparameters:\n",
      "num_layers: 9\n",
      "units_0: 88\n",
      "activation: tanh\n",
      "dropout: True\n",
      "lr: 0.008937986725950826\n",
      "units_1: 192\n",
      "units_2: 192\n",
      "units_3: 88\n",
      "units_4: 200\n",
      "units_5: 144\n",
      "units_6: 160\n",
      "units_7: 72\n",
      "units_8: 256\n",
      "Score: 0.03665247559547424\n",
      "Trial summary\n",
      "Hyperparameters:\n",
      "num_layers: 9\n",
      "units_0: 120\n",
      "activation: tanh\n",
      "dropout: True\n",
      "lr: 0.008156742832579354\n",
      "units_1: 40\n",
      "units_2: 160\n",
      "units_3: 216\n",
      "units_4: 104\n",
      "units_5: 80\n",
      "units_6: 64\n",
      "units_7: 144\n",
      "units_8: 8\n",
      "Score: 0.05658786122997602\n",
      "Trial summary\n",
      "Hyperparameters:\n",
      "num_layers: 7\n",
      "units_0: 168\n",
      "activation: sigmoid\n",
      "dropout: True\n",
      "lr: 0.0002484644006727784\n",
      "units_1: 48\n",
      "units_2: 144\n",
      "units_3: 232\n",
      "units_4: 32\n",
      "units_5: 112\n",
      "units_6: 32\n",
      "units_7: 176\n",
      "units_8: 64\n",
      "Score: 0.09285911917686462\n",
      "Trial summary\n",
      "Hyperparameters:\n",
      "num_layers: 6\n",
      "units_0: 120\n",
      "activation: sigmoid\n",
      "dropout: True\n",
      "lr: 0.00023054362697351804\n",
      "units_1: 136\n",
      "units_2: 160\n",
      "units_3: 152\n",
      "units_4: 144\n",
      "units_5: 192\n",
      "units_6: 248\n",
      "units_7: 80\n",
      "units_8: 248\n",
      "Score: 0.11052658905585606\n"
     ]
    }
   ],
   "source": [
    "tuner.results_summary()"
   ]
  },
  {
   "cell_type": "code",
   "execution_count": null,
   "metadata": {},
   "outputs": [],
   "source": [
    "best_hps = tuner.get_best_hyperparameters(5)\n",
    "model = build_model(best_hps[0])\n",
    "history = model.fit(x_train, y_train, batch_size=5, epochs=20, validation_data=(x_val, y_val),)"
   ]
  },
  {
   "cell_type": "code",
   "execution_count": null,
   "metadata": {},
   "outputs": [],
   "source": [
    "keras.utils.plot_model(model, \"model.png\", show_shapes=True)"
   ]
  },
  {
   "cell_type": "code",
   "execution_count": null,
   "metadata": {},
   "outputs": [],
   "source": [
    "print(\"Evaluate on test data\")\n",
    "results = model.evaluate(x_test, y_test, batch_size=5)\n",
    "print(\"test loss, test msqe:\", results)\n"
   ]
  },
  {
   "cell_type": "code",
   "execution_count": null,
   "metadata": {},
   "outputs": [],
   "source": [
    "print(\"Generate predictions for 3 samples\")\n",
    "test = x_test[:3]\n",
    "print(test)\n",
    "predictions = model.predict(test)\n",
    "print(\"predictions shape:\", predictions.shape)"
   ]
  },
  {
   "cell_type": "code",
   "execution_count": null,
   "metadata": {},
   "outputs": [],
   "source": [
    "print(predictions*labels_max)"
   ]
  }
 ],
 "metadata": {
  "interpreter": {
   "hash": "31f2aee4e71d21fbe5cf8b01ff0e069b9275f58929596ceb00d14d90e3e16cd6"
  },
  "kernelspec": {
   "display_name": "Python 3.7.12 64-bit",
   "language": "python",
   "name": "python3"
  },
  "language_info": {
   "codemirror_mode": {
    "name": "ipython",
    "version": 3
   },
   "file_extension": ".py",
   "mimetype": "text/x-python",
   "name": "python",
   "nbconvert_exporter": "python",
   "pygments_lexer": "ipython3",
   "version": "3.7.12"
  },
  "orig_nbformat": 4
 },
 "nbformat": 4,
 "nbformat_minor": 2
}
