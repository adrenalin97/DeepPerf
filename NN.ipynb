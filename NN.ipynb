{
 "cells": [
  {
   "cell_type": "code",
   "execution_count": 7,
   "metadata": {},
   "outputs": [],
   "source": [
    "import numpy as np\n",
    "import pandas as pd\n",
    "import tensorflow as tf\n",
    "from tensorflow.keras import layers\n",
    "from matplotlib import pyplot as plt\n",
    "from mlp_sparse_model import MLPSparseModel\n",
    "from mlp_plain_model import MLPPlainModel\n",
    "import time"
   ]
  },
  {
   "cell_type": "code",
   "execution_count": 10,
   "metadata": {},
   "outputs": [],
   "source": [
    "# Define params\n",
    "sys_name = 'LLVM'\n",
    "n_exp = 20"
   ]
  },
  {
   "cell_type": "code",
   "execution_count": 11,
   "metadata": {},
   "outputs": [],
   "source": [
    "def system_samplesize(sys_name):\n",
    "    if (sys_name == 'Apache'):\n",
    "        N_train_all = np.multiply(9, [1, 2, 3, 4, 5])  # This is for Apache\n",
    "    elif (sys_name == 'BDBJ'):\n",
    "        N_train_all = np.multiply(26, [1, 2, 3, 4, 5])  # This is for BDBJ\n",
    "    elif (sys_name == 'BDBC'):\n",
    "        N_train_all = np.multiply(18, [1, 2, 3, 4, 5])  # This is for BDBC\n",
    "    elif (sys_name == 'LLVM'):\n",
    "        N_train_all = np.multiply(11, [1, 2, 3, 4, 5])  # This is for LLVM\n",
    "    elif (sys_name == 'SQL'):\n",
    "        N_train_all = np.multiply(39, [1, 2, 3, 4, 5])  # This is for SQL\n",
    "    elif (sys_name == 'x264'):\n",
    "        N_train_all = np.multiply(16, [1, 2, 3, 4, 5])  # This is for X264\n",
    "    elif (sys_name == 'Dune'):\n",
    "        N_train_all = np.asarray([49, 78, 240, 375])  # This is for Dune\n",
    "    elif (sys_name == 'hipacc'):\n",
    "        N_train_all = np.asarray([261, 736, 528, 1281])  # This is for hipacc\n",
    "    elif (sys_name == 'hsmgp'):\n",
    "        N_train_all = np.asarray([77, 173, 384, 480])  # This is for hsmgp\n",
    "    elif (sys_name == 'javagc'):\n",
    "        N_train_all = np.asarray([423, 534, 855, 2571])  # This is for javagc\n",
    "    elif (sys_name == 'sac'):\n",
    "        N_train_all = np.asarray([2060, 2295, 2499, 3261])  # This is for sac\n",
    "    else:\n",
    "        raise AssertionError(\"Unexpected value of 'sys_name'!\")\n",
    "\n",
    "    return N_train_all"
   ]
  },
  {
   "cell_type": "code",
   "execution_count": 12,
   "metadata": {},
   "outputs": [],
   "source": [
    "def seed_generator(sys_name, sample_size):\n",
    "    # Generate the initial seed for each sample size (to match the seed\n",
    "    # of the results in the paper)\n",
    "    # This is just the initial seed, for each experiment, the seeds will be\n",
    "    # equal the initial seed + the number of the experiment\n",
    "\n",
    "    N_train_all = system_samplesize(sys_name)\n",
    "    if sample_size in N_train_all:\n",
    "        seed_o = np.where(N_train_all == sample_size)[0][0]\n",
    "    else:\n",
    "        seed_o = np.random.randint(1, 101)\n",
    "\n",
    "    return seed_o"
   ]
  },
  {
   "cell_type": "code",
   "execution_count": 17,
   "metadata": {},
   "outputs": [],
   "source": [
    "def main():\n",
    "    sample_size_all = list(system_samplesize(sys_name))\n",
    "    print('Read whole dataset from csv file ...')\n",
    "    dir_data = 'Data/' + sys_name + '_AllNumeric.csv'\n",
    "    print('Dataset: ' + dir_data)\n",
    "    data_df = pd.read_csv(dir_data)\n",
    "\n",
    "    # for idx in range(len(sample_size_all)):\n",
    "    #     N_train = sample_size_all[idx]\n",
    "    #     print(\"Sample size: {}\".format(N_train))\n",
    "\n"
   ]
  },
  {
   "cell_type": "code",
   "execution_count": 18,
   "metadata": {},
   "outputs": [
    {
     "name": "stdout",
     "output_type": "stream",
     "text": [
      "Read whole dataset from csv file ...\n",
      "Dataset: Data/LLVM_AllNumeric.csv\n"
     ]
    }
   ],
   "source": [
    "main()"
   ]
  },
  {
   "cell_type": "markdown",
   "metadata": {},
   "source": []
  }
 ],
 "metadata": {
  "interpreter": {
   "hash": "31f2aee4e71d21fbe5cf8b01ff0e069b9275f58929596ceb00d14d90e3e16cd6"
  },
  "kernelspec": {
   "display_name": "Python 3.7.12 64-bit",
   "language": "python",
   "name": "python3"
  },
  "language_info": {
   "codemirror_mode": {
    "name": "ipython",
    "version": 3
   },
   "file_extension": ".py",
   "mimetype": "text/x-python",
   "name": "python",
   "nbconvert_exporter": "python",
   "pygments_lexer": "ipython3",
   "version": "3.7.12"
  },
  "orig_nbformat": 4
 },
 "nbformat": 4,
 "nbformat_minor": 2
}
